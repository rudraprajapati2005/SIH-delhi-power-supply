{
 "cells": [
  {
   "cell_type": "code",
   "execution_count": 3,
   "id": "00a8532c-feec-47eb-8c78-31fc37fc3e3e",
   "metadata": {},
   "outputs": [],
   "source": [
    "import pandas as pd\n",
    "import numpy as numpy\n",
    "from sklearn.model_selection import train_test_split\n",
    "from sklearn.neighbors import KNeighborsClassifier\n",
    "from sklearn.metrics import confusion_matrix\n",
    "from sklearn.metrics import f1_score\n",
    "from sklearn.metrics import accuracy_score"
   ]
  },
  {
   "cell_type": "code",
   "execution_count": 7,
   "id": "ef7d8a44-6746-46ab-8651-cc7c227036f4",
   "metadata": {},
   "outputs": [
    {
     "name": "stdout",
     "output_type": "stream",
     "text": [
      "   Unnamed: 0         timestamp  day_of_week  hour_of_day  is_weekend  \\\n",
      "0           0  01-01-2023 00:00            6            0           1   \n",
      "1           1  01-01-2023 01:00            6            1           1   \n",
      "2           2  01-01-2023 02:00            6            2           1   \n",
      "3           3  01-01-2023 03:00            6            3           1   \n",
      "4           4  01-01-2023 04:00            6            4           1   \n",
      "\n",
      "   temperature  is_holiday  solar_generation   load compensation_method  \n",
      "0    17.483571           0          7.819507  18493    Normal Operation  \n",
      "1    14.308678           0          0.886376  17090    Normal Operation  \n",
      "2    18.238443           0          0.798470  16052    Normal Operation  \n",
      "3    22.615149           0          3.067700  15356    Normal Operation  \n",
      "4    13.829233           0          0.359479  14936    Normal Operation  \n"
     ]
    }
   ],
   "source": [
    "dataset =pd.read_csv('data_electricity.csv')\n",
    "print(dataset.head(5))"
   ]
  },
  {
   "cell_type": "code",
   "execution_count": 6,
   "id": "d64d3600-4a53-4802-b765-ad4327db2a24",
   "metadata": {},
   "outputs": [
    {
     "name": "stdout",
     "output_type": "stream",
     "text": [
      "(8737, 10)\n"
     ]
    }
   ],
   "source": [
    "print(dataset.shape)"
   ]
  },
  {
   "cell_type": "code",
   "execution_count": null,
   "id": "0bf33458-c119-49f8-ae0b-9973a2f98afd",
   "metadata": {},
   "outputs": [],
   "source": []
  }
 ],
 "metadata": {
  "kernelspec": {
   "display_name": "Python 3 (ipykernel)",
   "language": "python",
   "name": "python3"
  },
  "language_info": {
   "codemirror_mode": {
    "name": "ipython",
    "version": 3
   },
   "file_extension": ".py",
   "mimetype": "text/x-python",
   "name": "python",
   "nbconvert_exporter": "python",
   "pygments_lexer": "ipython3",
   "version": "3.12.4"
  }
 },
 "nbformat": 4,
 "nbformat_minor": 5
}
