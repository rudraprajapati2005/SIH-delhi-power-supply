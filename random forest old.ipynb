{
 "cells": [
  {
   "cell_type": "code",
   "execution_count": 6,
   "id": "0af79f32-415b-44df-9173-985f6d9161f7",
   "metadata": {},
   "outputs": [],
   "source": [
    "import pandas as pd\n",
    "import seaborn as sns\n",
    "import numpy as np\n",
    "import matplotlib.pyplot as plt\n"
   ]
  },
  {
   "cell_type": "code",
   "execution_count": 7,
   "id": "402ac63e-6452-4bc4-a3b1-73abf9770e9d",
   "metadata": {},
   "outputs": [],
   "source": [
    "df=pd.read_csv('24-hours testset.csv')"
   ]
  },
  {
   "cell_type": "code",
   "execution_count": 8,
   "id": "ea1506b3-5138-49a6-8504-ccd6209f664a",
   "metadata": {},
   "outputs": [],
   "source": [
    "df=pd.DataFrame(df[['timestamp','day_of_week','hour_of_day','is_weekend','temperature','is_holiday','solar_generation']])"
   ]
  },
  {
   "cell_type": "code",
   "execution_count": 9,
   "id": "ac64047d-92ae-4f1d-8fc4-d7c767ee7668",
   "metadata": {},
   "outputs": [],
   "source": [
    "df['timestamp']=pd.to_datetime(df['timestamp'])"
   ]
  },
  {
   "cell_type": "code",
   "execution_count": null,
   "id": "1d0b600b-f52f-4caa-81dc-5fd82b1034c3",
   "metadata": {},
   "outputs": [],
   "source": []
  },
  {
   "cell_type": "code",
   "execution_count": 12,
   "id": "ab30c1a1-dcf4-435e-80dc-e27e60355b35",
   "metadata": {},
   "outputs": [
    {
     "name": "stdout",
     "output_type": "stream",
     "text": [
      "            timestamp  day_of_week  hour_of_day  is_weekend  temperature  \\\n",
      "0 2024-01-01 00:00:00            0            0           0    28.534249   \n",
      "1 2024-01-01 01:00:00            0            1           0    18.140664   \n",
      "2 2024-01-01 02:00:00            0            2           0    19.539847   \n",
      "3 2024-01-01 03:00:00            0            3           0    17.519129   \n",
      "4 2024-01-01 04:00:00            0            4           0    18.255590   \n",
      "5 2024-01-01 05:00:00            0            5           0    13.403410   \n",
      "6 2024-01-01 06:00:00            0            6           0    10.759615   \n",
      "7 2024-01-01 07:00:00            0            7           0    18.029827   \n",
      "8 2024-01-01 08:00:00            0            8           0     4.909159   \n",
      "9 2024-01-01 09:00:00            0            9           0    18.700610   \n",
      "\n",
      "   is_holiday  solar_generation                     compensation_method  \n",
      "0           0          0.786249                        Normal Operation  \n",
      "1           0          7.331477                        Normal Operation  \n",
      "2           0          9.877753                        Normal Operation  \n",
      "3           0          1.215103                        Normal Operation  \n",
      "4           0          2.476539                        Normal Operation  \n",
      "5           0          7.073824                        Normal Operation  \n",
      "6           0        220.673339  Increased Renewable Energy Integration  \n",
      "7           0        268.782298  Increased Renewable Energy Integration  \n",
      "8           0        245.830190  Increased Renewable Energy Integration  \n",
      "9           0        258.039918  Increased Renewable Energy Integration  \n"
     ]
    }
   ],
   "source": [
    "def assign_compensation_method(row):\n",
    "    if row['is_holiday'] == 1:\n",
    "        return 'Lower Power Supply'\n",
    "    elif row['solar_generation'] > 200:\n",
    "        return 'Increased Renewable Energy Integration'\n",
    "    elif row['hour_of_day'] >= 18 and row['hour_of_day'] <= 22:\n",
    "        return 'Peak Load Shifting'\n",
    "    elif row['temperature'] > 35:\n",
    "        return 'Increased Power Supply'\n",
    "    else:\n",
    "        return 'Normal Operation'\n",
    "\n",
    "df['compensation_method'] = df.apply(assign_compensation_method, axis=1)\n",
    "\n",
    "print(df.head(10))\n"
   ]
  },
  {
   "cell_type": "code",
   "execution_count": 13,
   "id": "0e2fbfb8-a1c7-47da-8ab9-fbd98b6ca607",
   "metadata": {},
   "outputs": [
    {
     "data": {
      "text/html": [
       "<div>\n",
       "<style scoped>\n",
       "    .dataframe tbody tr th:only-of-type {\n",
       "        vertical-align: middle;\n",
       "    }\n",
       "\n",
       "    .dataframe tbody tr th {\n",
       "        vertical-align: top;\n",
       "    }\n",
       "\n",
       "    .dataframe thead th {\n",
       "        text-align: right;\n",
       "    }\n",
       "</style>\n",
       "<table border=\"1\" class=\"dataframe\">\n",
       "  <thead>\n",
       "    <tr style=\"text-align: right;\">\n",
       "      <th></th>\n",
       "      <th>timestamp</th>\n",
       "      <th>day_of_week</th>\n",
       "      <th>hour_of_day</th>\n",
       "      <th>is_weekend</th>\n",
       "      <th>temperature</th>\n",
       "      <th>is_holiday</th>\n",
       "      <th>solar_generation</th>\n",
       "      <th>compensation_method</th>\n",
       "    </tr>\n",
       "  </thead>\n",
       "  <tbody>\n",
       "    <tr>\n",
       "      <th>0</th>\n",
       "      <td>2024-01-01 00:00:00</td>\n",
       "      <td>0</td>\n",
       "      <td>0</td>\n",
       "      <td>0</td>\n",
       "      <td>28.534249</td>\n",
       "      <td>0</td>\n",
       "      <td>0.786249</td>\n",
       "      <td>Normal Operation</td>\n",
       "    </tr>\n",
       "    <tr>\n",
       "      <th>1</th>\n",
       "      <td>2024-01-01 01:00:00</td>\n",
       "      <td>0</td>\n",
       "      <td>1</td>\n",
       "      <td>0</td>\n",
       "      <td>18.140664</td>\n",
       "      <td>0</td>\n",
       "      <td>7.331477</td>\n",
       "      <td>Normal Operation</td>\n",
       "    </tr>\n",
       "    <tr>\n",
       "      <th>2</th>\n",
       "      <td>2024-01-01 02:00:00</td>\n",
       "      <td>0</td>\n",
       "      <td>2</td>\n",
       "      <td>0</td>\n",
       "      <td>19.539847</td>\n",
       "      <td>0</td>\n",
       "      <td>9.877753</td>\n",
       "      <td>Normal Operation</td>\n",
       "    </tr>\n",
       "    <tr>\n",
       "      <th>3</th>\n",
       "      <td>2024-01-01 03:00:00</td>\n",
       "      <td>0</td>\n",
       "      <td>3</td>\n",
       "      <td>0</td>\n",
       "      <td>17.519129</td>\n",
       "      <td>0</td>\n",
       "      <td>1.215103</td>\n",
       "      <td>Normal Operation</td>\n",
       "    </tr>\n",
       "    <tr>\n",
       "      <th>4</th>\n",
       "      <td>2024-01-01 04:00:00</td>\n",
       "      <td>0</td>\n",
       "      <td>4</td>\n",
       "      <td>0</td>\n",
       "      <td>18.255590</td>\n",
       "      <td>0</td>\n",
       "      <td>2.476539</td>\n",
       "      <td>Normal Operation</td>\n",
       "    </tr>\n",
       "  </tbody>\n",
       "</table>\n",
       "</div>"
      ],
      "text/plain": [
       "            timestamp  day_of_week  hour_of_day  is_weekend  temperature  \\\n",
       "0 2024-01-01 00:00:00            0            0           0    28.534249   \n",
       "1 2024-01-01 01:00:00            0            1           0    18.140664   \n",
       "2 2024-01-01 02:00:00            0            2           0    19.539847   \n",
       "3 2024-01-01 03:00:00            0            3           0    17.519129   \n",
       "4 2024-01-01 04:00:00            0            4           0    18.255590   \n",
       "\n",
       "   is_holiday  solar_generation compensation_method  \n",
       "0           0          0.786249    Normal Operation  \n",
       "1           0          7.331477    Normal Operation  \n",
       "2           0          9.877753    Normal Operation  \n",
       "3           0          1.215103    Normal Operation  \n",
       "4           0          2.476539    Normal Operation  "
      ]
     },
     "execution_count": 13,
     "metadata": {},
     "output_type": "execute_result"
    }
   ],
   "source": [
    "df.head()"
   ]
  },
  {
   "cell_type": "code",
   "execution_count": 14,
   "id": "4816084b-fa22-46df-80ae-d501ca16c0c0",
   "metadata": {},
   "outputs": [
    {
     "data": {
      "text/html": [
       "<a href='24-hours dataset(old).csv' target='_blank'>24-hours dataset(old).csv</a><br>"
      ],
      "text/plain": [
       "C:\\Users\\Rudra\\JUPYTER_ML\\24-hours dataset(old).csv"
      ]
     },
     "execution_count": 14,
     "metadata": {},
     "output_type": "execute_result"
    }
   ],
   "source": [
    "df.to_csv('24-hours dataset(old).csv', index=False)\n",
    "\n",
    "from IPython.display import FileLink\n",
    "\n",
    "FileLink('24-hours dataset(old).csv')\n"
   ]
  },
  {
   "cell_type": "code",
   "execution_count": 24,
   "id": "299bca75-9071-41c4-ae5c-ab059b4c4780",
   "metadata": {},
   "outputs": [
    {
     "ename": "ValueError",
     "evalue": "numpy.dtype size changed, may indicate binary incompatibility. Expected 96 from C header, got 88 from PyObject",
     "output_type": "error",
     "traceback": [
      "\u001b[1;31m---------------------------------------------------------------------------\u001b[0m",
      "\u001b[1;31mValueError\u001b[0m                                Traceback (most recent call last)",
      "Cell \u001b[1;32mIn[24], line 1\u001b[0m\n\u001b[1;32m----> 1\u001b[0m \u001b[38;5;28;01mfrom\u001b[39;00m \u001b[38;5;21;01msklearn\u001b[39;00m\u001b[38;5;21;01m.\u001b[39;00m\u001b[38;5;21;01mmodel_selection\u001b[39;00m \u001b[38;5;28;01mimport\u001b[39;00m train_test_split\n\u001b[0;32m      2\u001b[0m \u001b[38;5;28;01mfrom\u001b[39;00m \u001b[38;5;21;01msklearn\u001b[39;00m\u001b[38;5;21;01m.\u001b[39;00m\u001b[38;5;21;01mpreprocessing\u001b[39;00m \u001b[38;5;28;01mimport\u001b[39;00m LabelEncoder\n",
      "File \u001b[1;32m~\\anaconda3\\Lib\\site-packages\\sklearn\\__init__.py:87\u001b[0m\n\u001b[0;32m     73\u001b[0m     \u001b[38;5;66;03m# We are not importing the rest of scikit-learn during the build\u001b[39;00m\n\u001b[0;32m     74\u001b[0m     \u001b[38;5;66;03m# process, as it may not be compiled yet\u001b[39;00m\n\u001b[0;32m     75\u001b[0m \u001b[38;5;28;01melse\u001b[39;00m:\n\u001b[1;32m   (...)\u001b[0m\n\u001b[0;32m     81\u001b[0m     \u001b[38;5;66;03m# later is linked to the OpenMP runtime to make it possible to introspect\u001b[39;00m\n\u001b[0;32m     82\u001b[0m     \u001b[38;5;66;03m# it and importing it first would fail if the OpenMP dll cannot be found.\u001b[39;00m\n\u001b[0;32m     83\u001b[0m     \u001b[38;5;28;01mfrom\u001b[39;00m \u001b[38;5;21;01m.\u001b[39;00m \u001b[38;5;28;01mimport\u001b[39;00m (\n\u001b[0;32m     84\u001b[0m         __check_build,  \u001b[38;5;66;03m# noqa: F401\u001b[39;00m\n\u001b[0;32m     85\u001b[0m         _distributor_init,  \u001b[38;5;66;03m# noqa: F401\u001b[39;00m\n\u001b[0;32m     86\u001b[0m     )\n\u001b[1;32m---> 87\u001b[0m     \u001b[38;5;28;01mfrom\u001b[39;00m \u001b[38;5;21;01m.\u001b[39;00m\u001b[38;5;21;01mbase\u001b[39;00m \u001b[38;5;28;01mimport\u001b[39;00m clone\n\u001b[0;32m     88\u001b[0m     \u001b[38;5;28;01mfrom\u001b[39;00m \u001b[38;5;21;01m.\u001b[39;00m\u001b[38;5;21;01mutils\u001b[39;00m\u001b[38;5;21;01m.\u001b[39;00m\u001b[38;5;21;01m_show_versions\u001b[39;00m \u001b[38;5;28;01mimport\u001b[39;00m show_versions\n\u001b[0;32m     90\u001b[0m     __all__ \u001b[38;5;241m=\u001b[39m [\n\u001b[0;32m     91\u001b[0m         \u001b[38;5;124m\"\u001b[39m\u001b[38;5;124mcalibration\u001b[39m\u001b[38;5;124m\"\u001b[39m,\n\u001b[0;32m     92\u001b[0m         \u001b[38;5;124m\"\u001b[39m\u001b[38;5;124mcluster\u001b[39m\u001b[38;5;124m\"\u001b[39m,\n\u001b[1;32m   (...)\u001b[0m\n\u001b[0;32m    133\u001b[0m         \u001b[38;5;124m\"\u001b[39m\u001b[38;5;124mshow_versions\u001b[39m\u001b[38;5;124m\"\u001b[39m,\n\u001b[0;32m    134\u001b[0m     ]\n",
      "File \u001b[1;32m~\\anaconda3\\Lib\\site-packages\\sklearn\\base.py:19\u001b[0m\n\u001b[0;32m     17\u001b[0m \u001b[38;5;28;01mfrom\u001b[39;00m \u001b[38;5;21;01m.\u001b[39;00m\u001b[38;5;21;01m_config\u001b[39;00m \u001b[38;5;28;01mimport\u001b[39;00m config_context, get_config\n\u001b[0;32m     18\u001b[0m \u001b[38;5;28;01mfrom\u001b[39;00m \u001b[38;5;21;01m.\u001b[39;00m\u001b[38;5;21;01mexceptions\u001b[39;00m \u001b[38;5;28;01mimport\u001b[39;00m InconsistentVersionWarning\n\u001b[1;32m---> 19\u001b[0m \u001b[38;5;28;01mfrom\u001b[39;00m \u001b[38;5;21;01m.\u001b[39;00m\u001b[38;5;21;01mutils\u001b[39;00m \u001b[38;5;28;01mimport\u001b[39;00m _IS_32BIT\n\u001b[0;32m     20\u001b[0m \u001b[38;5;28;01mfrom\u001b[39;00m \u001b[38;5;21;01m.\u001b[39;00m\u001b[38;5;21;01mutils\u001b[39;00m\u001b[38;5;21;01m.\u001b[39;00m\u001b[38;5;21;01m_estimator_html_repr\u001b[39;00m \u001b[38;5;28;01mimport\u001b[39;00m _HTMLDocumentationLinkMixin, estimator_html_repr\n\u001b[0;32m     21\u001b[0m \u001b[38;5;28;01mfrom\u001b[39;00m \u001b[38;5;21;01m.\u001b[39;00m\u001b[38;5;21;01mutils\u001b[39;00m\u001b[38;5;21;01m.\u001b[39;00m\u001b[38;5;21;01m_metadata_requests\u001b[39;00m \u001b[38;5;28;01mimport\u001b[39;00m _MetadataRequester, _routing_enabled\n",
      "File \u001b[1;32m~\\anaconda3\\Lib\\site-packages\\sklearn\\utils\\__init__.py:28\u001b[0m\n\u001b[0;32m     26\u001b[0m \u001b[38;5;28;01mfrom\u001b[39;00m \u001b[38;5;21;01m.\u001b[39;00m\u001b[38;5;21;01mdiscovery\u001b[39;00m \u001b[38;5;28;01mimport\u001b[39;00m all_estimators\n\u001b[0;32m     27\u001b[0m \u001b[38;5;28;01mfrom\u001b[39;00m \u001b[38;5;21;01m.\u001b[39;00m\u001b[38;5;21;01mfixes\u001b[39;00m \u001b[38;5;28;01mimport\u001b[39;00m parse_version, threadpool_info\n\u001b[1;32m---> 28\u001b[0m \u001b[38;5;28;01mfrom\u001b[39;00m \u001b[38;5;21;01m.\u001b[39;00m\u001b[38;5;21;01mmurmurhash\u001b[39;00m \u001b[38;5;28;01mimport\u001b[39;00m murmurhash3_32\n\u001b[0;32m     29\u001b[0m \u001b[38;5;28;01mfrom\u001b[39;00m \u001b[38;5;21;01m.\u001b[39;00m\u001b[38;5;21;01mvalidation\u001b[39;00m \u001b[38;5;28;01mimport\u001b[39;00m (\n\u001b[0;32m     30\u001b[0m     _is_arraylike_not_scalar,\n\u001b[0;32m     31\u001b[0m     _is_pandas_df,\n\u001b[1;32m   (...)\u001b[0m\n\u001b[0;32m     43\u001b[0m     indexable,\n\u001b[0;32m     44\u001b[0m )\n\u001b[0;32m     46\u001b[0m \u001b[38;5;66;03m# Do not deprecate parallel_backend and register_parallel_backend as they are\u001b[39;00m\n\u001b[0;32m     47\u001b[0m \u001b[38;5;66;03m# needed to tune `scikit-learn` behavior and have different effect if called\u001b[39;00m\n\u001b[0;32m     48\u001b[0m \u001b[38;5;66;03m# from the vendored version or or the site-package version. The other are\u001b[39;00m\n\u001b[0;32m     49\u001b[0m \u001b[38;5;66;03m# utilities that are independent of scikit-learn so they are not part of\u001b[39;00m\n\u001b[0;32m     50\u001b[0m \u001b[38;5;66;03m# scikit-learn public API.\u001b[39;00m\n",
      "File \u001b[1;32msklearn\\\\utils\\\\murmurhash.pyx:1\u001b[0m, in \u001b[0;36minit sklearn.utils.murmurhash\u001b[1;34m()\u001b[0m\n",
      "\u001b[1;31mValueError\u001b[0m: numpy.dtype size changed, may indicate binary incompatibility. Expected 96 from C header, got 88 from PyObject"
     ]
    }
   ],
   "source": [
    "from sklearn.model_selection import train_test_split\n",
    "from sklearn.preprocessing import LabelEncoder"
   ]
  },
  {
   "cell_type": "code",
   "execution_count": null,
   "id": "4e73b411-5033-4746-b3f6-cfeed7283132",
   "metadata": {},
   "outputs": [],
   "source": [
    "!pip uninstall numpy\n",
    "!pip list\n"
   ]
  },
  {
   "cell_type": "code",
   "execution_count": null,
   "id": "f8650c4c-abd7-4bdb-ba9f-e6ea9f924169",
   "metadata": {},
   "outputs": [],
   "source": []
  },
  {
   "cell_type": "code",
   "execution_count": null,
   "id": "acfb4c2e-6ae7-41e8-80fe-558ee3487a3c",
   "metadata": {},
   "outputs": [],
   "source": [
    "X = df[['temperature', 'solar_generation', 'hour_of_day', 'load', 'is_holiday']]\n",
    "y=df['compensation_method']\n",
    "X_reg = df[['temperature', 'solar_generation', 'hour_of_day', 'is_holiday']]\n",
    "y_reg = df['load']\n",
    "le = LabelEncoder()\n",
    "y = le.fit_transform(y)"
   ]
  },
  {
   "cell_type": "code",
   "execution_count": null,
   "id": "b5571b51-b143-40d7-9e8b-4a01b1ac7d00",
   "metadata": {},
   "outputs": [],
   "source": [
    "X_train, X_test, y_train, y_test=train_test_split(X, y, test_size=0.3, random_state=42)\n",
    "X_reg_train, X_reg_test, y_reg_train, y_reg_test = train_test_split(X_reg, y_reg, test_size=0.3, random_state=42)"
   ]
  },
  {
   "cell_type": "code",
   "execution_count": null,
   "id": "f286a25e-eac6-47ae-96e6-515a1ccef906",
   "metadata": {},
   "outputs": [],
   "source": [
    "from sklearn.ensemble import RandomForestClassifier, RandomForestRegressor\n",
    "from sklearn.metrics import classification_report, confusion_matrix, accuracy_score, mean_squared_error"
   ]
  },
  {
   "cell_type": "code",
   "execution_count": null,
   "id": "084e460b-9525-4456-a77c-68145c0bafa5",
   "metadata": {},
   "outputs": [],
   "source": [
    "rf_reg = RandomForestRegressor(n_estimators=100, random_state=42)\n",
    "rf_clf=RandomForestClassifier(n_estimators=100, random_state=42)"
   ]
  },
  {
   "cell_type": "code",
   "execution_count": null,
   "id": "5b7a936a-2bea-4729-b4a7-3e0451f6fdfa",
   "metadata": {},
   "outputs": [],
   "source": [
    "rf_reg.fit(X_reg_train, y_reg_train)"
   ]
  },
  {
   "cell_type": "code",
   "execution_count": null,
   "id": "60bd77d7-8a98-4d45-98ed-e6f180cb43d3",
   "metadata": {},
   "outputs": [],
   "source": [
    "rf_clf.fit(X_train, y_train)"
   ]
  },
  {
   "cell_type": "code",
   "execution_count": null,
   "id": "36a4148d-e144-48ff-b8c0-7d1399b4be34",
   "metadata": {},
   "outputs": [],
   "source": [
    "y_pred = rf_clf.predict(X_test)\n",
    "class_accuracy = accuracy_score(y_test, y_pred)\n",
    "print(f\"Classification Model Accuracy: {class_accuracy:.2f}\")\n",
    "print(classification_report(y_test, y_pred, target_names=le.classes_))\n",
    "\n",
    "# Make predictions on the test set for regression (peak supply)\n",
    "y_reg_pred = rf_reg.predict(X_reg_test)\n",
    "reg_mse = mean_squared_error(y_reg_test, y_reg_pred)\n",
    "print(f\"Regression Model Mean Squared Error: {reg_mse:.2f}\")\n",
    "print(confusion_matrix(y_test, y_pred))"
   ]
  },
  {
   "cell_type": "code",
   "execution_count": null,
   "id": "539ce421-9763-4f6a-aa26-e656ce712bed",
   "metadata": {},
   "outputs": [],
   "source": [
    "def predict_for_date(date, temperature, solar_generation, hour_of_day, is_holiday, rf_clf, rf_reg, le):\n",
    "    new_data_class = pd.DataFrame({\n",
    "        'temperature': [temperature],\n",
    "        'solar_generation': [solar_generation],\n",
    "        'hour_of_day': [hour_of_day],\n",
    "        'load': [0],\n",
    "        'is_holiday': [is_holiday]\n",
    "    })\n",
    "\n",
    "    new_data_reg = pd.DataFrame({\n",
    "        'temperature': [temperature],\n",
    "        'solar_generation': [solar_generation],\n",
    "        'hour_of_day': [hour_of_day],\n",
    "        'is_holiday': [is_holiday]\n",
    "    })\n",
    "    \n",
    "    predicted_class_label = rf_clf.predict(new_data_class)\n",
    "    predicted_compensation_method = le.inverse_transform(predicted_class_label)\n",
    "    predicted_peak_supply = rf_reg.predict(new_data_reg)\n",
    "\n",
    "    return {\n",
    "        'date': date,\n",
    "        'hour_of_day': hour_of_day,\n",
    "        'compensation_method': predicted_compensation_method[0],\n",
    "        'peak_supply_needed': predicted_peak_supply[0]\n",
    "    }\n",
    "\n",
    "def generate_24_hour_predictions(date, temperature, solar_generation, is_holiday, rf_clf, rf_reg, le):\n",
    "\n",
    "    results = []\n",
    "\n",
    "    for hour in range(24):\n",
    "        prediction = predict_for_date(date, temperature, solar_generation, hour, is_holiday, rf_clf, rf_reg, le)\n",
    "        results.append(prediction)\n",
    "    \n",
    "    df_predictions = pd.DataFrame(results)\n",
    "    \n",
    "    return df_predictions\n",
    "\n",
    "date = '2024-05-17'\n",
    "temperature = 27\n",
    "solar_generation = 50\n",
    "is_holiday = 1\n",
    "\n",
    "\n",
    "df_24_hour_predictions = generate_24_hour_predictions(date, temperature, solar_generation, is_holiday, rf_clf, rf_reg, le)\n",
    "\n",
    "print(df_24_hour_predictions)\n"
   ]
  },
  {
   "cell_type": "code",
   "execution_count": null,
   "id": "334fe8fa-cb8c-4e2e-ab3c-e7b4ec9c1fde",
   "metadata": {},
   "outputs": [],
   "source": [
    "def plot_predictions(df_predictions):\n",
    "    plt.figure(figsize=(14, 7))\n",
    "\n",
    "    sns.lineplot(data=df_predictions, x='hour_of_day', y='peak_supply_needed', marker='o', color='blue', label='Peak Supply Needed (MW)')\n",
    "    \n",
    "    sns.lineplot(data=df, x='hour_of_day', y='load', palette='Set1')\n",
    "\n",
    "    plt.title('Hourly Predictions for {}'.format(df_predictions['date'][0]))\n",
    "    plt.xlabel('Hour of the Day')\n",
    "    plt.ylabel('Peak Supply Needed (MW)')\n",
    "    plt.legend(title='Compensation Method')\n",
    "    plt.grid(True)\n",
    "    plt.show()\n",
    "\n",
    "plot_predictions(df_24_hour_predictions)"
   ]
  },
  {
   "cell_type": "code",
   "execution_count": null,
   "id": "b1d20ff2-8c40-4518-9005-90b93a69c0a1",
   "metadata": {},
   "outputs": [],
   "source": [
    "def plot_predictions(df_predictions):\n",
    "    plt.figure(figsize=(14, 7))\n",
    "\n",
    "    sns.lineplot(data=df_predictions, x='hour_of_day', y='peak_supply_needed', marker='o', color='blue', label='Peak Supply Needed (MW)')\n",
    "    \n",
    "    sns.scatterplot(data=df_predictions, x='hour_of_day', y='peak_supply_needed', hue='compensation_method', palette='Set2', s=100, legend='full', marker='o')\n",
    "\n",
    "    plt.title('Hourly Predictions for {}'.format(df_predictions['date'][0]))\n",
    "    plt.xlabel('Hour of the Day')\n",
    "    plt.ylabel('Peak Supply Needed (MW)')\n",
    "    plt.legend(title='Compensation Method')\n",
    "    plt.grid(True)\n",
    "    plt.show()\n",
    "\n",
    "plot_predictions(df_24_hour_predictions)"
   ]
  }
 ],
 "metadata": {
  "kernelspec": {
   "display_name": "Python 3 (ipykernel)",
   "language": "python",
   "name": "python3"
  },
  "language_info": {
   "codemirror_mode": {
    "name": "ipython",
    "version": 3
   },
   "file_extension": ".py",
   "mimetype": "text/x-python",
   "name": "python",
   "nbconvert_exporter": "python",
   "pygments_lexer": "ipython3",
   "version": "3.12.4"
  }
 },
 "nbformat": 4,
 "nbformat_minor": 5
}
